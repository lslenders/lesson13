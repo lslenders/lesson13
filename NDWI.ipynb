{
 "metadata": {
  "name": "",
  "signature": "sha256:28c92369ef20574c842491d100b35305e60d78504496daf4bb59ed4a3ecc9c8f"
 },
 "nbformat": 3,
 "nbformat_minor": 0,
 "worksheets": [
  {
   "cells": [
    {
     "cell_type": "markdown",
     "metadata": {},
     "source": [
      "#NDWI _ team Puma"
     ]
    },
    {
     "cell_type": "markdown",
     "metadata": {},
     "source": [
      "\"\"\" \n",
      "Created on Wed Jan 20 10:07:51 2016\n",
      "Lesson13 - import + NDWI\n",
      "@author: Jason & Lieven\n",
      "\"\"\""
     ]
    },
    {
     "cell_type": "markdown",
     "metadata": {},
     "source": [
      "This file shows a function to derive the Normalised difference water index (NDWI).\n",
      "The (I,II) guide through preprocessing\n",
      "The (1-4) guide throug the actual proces.\n",
      "\n",
      "in 2 you can find the funcition for the calculation of NDWI"
     ]
    },
    {
     "cell_type": "markdown",
     "metadata": {},
     "source": [
      "#I import modules"
     ]
    },
    {
     "cell_type": "code",
     "collapsed": false,
     "input": [
      "from osgeo import gdal\n",
      "from osgeo.gdalconst import GA_ReadOnly, GDT_Float32\n",
      "import numpy as np\n",
      "import os"
     ],
     "language": "python",
     "metadata": {},
     "outputs": [],
     "prompt_number": 3
    },
    {
     "cell_type": "markdown",
     "metadata": {},
     "source": [
      "#II open file and print info about the file"
     ]
    },
    {
     "cell_type": "code",
     "collapsed": false,
     "input": [
      "band4 = '/home/user/Desktop/geoscripting/lesson13/data/LC81980242014260LGN00_sr_band4.tif'\n",
      "band5 = '/home/user/Desktop/geoscripting/lesson13/data/LC81980242014260LGN00_sr_band5.tif'\n",
      "dataSource4 = gdal.Open(band4, GA_ReadOnly)\n",
      "dataSource5 = gdal.Open(band5, GA_ReadOnly)\n",
      "\n",
      "\n",
      "print \"\\nInformation about \" + band4\n",
      "print \"Driver: \", dataSource4.GetDriver().ShortName,\"/\", \\\n",
      "      dataSource4.GetDriver().LongName\n",
      "print \"Size is \",dataSource4.RasterXSize,\"x\",dataSource4.RasterYSize, \\\n",
      "      'x',dataSource4.RasterCount\n",
      "\n",
      "print '\\nProjection is: ', dataSource4.GetProjection()\n",
      "\n",
      "print \"\\nInformation about the location of the image and the pixel size:\"\n",
      "geotransform = dataSource4.GetGeoTransform()\n",
      "if not geotransform is None:\n",
      "    print 'Origin = (',geotransform[0], ',',geotransform[3],')'\n",
      "    print 'Pixel Size = (',geotransform[1], ',',geotransform[5],')'\n"
     ],
     "language": "python",
     "metadata": {},
     "outputs": [
      {
       "output_type": "stream",
       "stream": "stdout",
       "text": [
        "\n",
        "Information about /home/user/Desktop/geoscripting/lesson13/data/LC81980242014260LGN00_sr_band4.tif\n",
        "Driver:  GTiff / GeoTIFF\n",
        "Size is  7791 x 7911 x 1\n",
        "\n",
        "Projection is:  PROJCS[\"WGS 84 / UTM zone 31N\",GEOGCS[\"WGS 84\",DATUM[\"WGS_1984\",SPHEROID[\"WGS 84\",6378137,298.257223563,AUTHORITY[\"EPSG\",\"7030\"]],AUTHORITY[\"EPSG\",\"6326\"]],PRIMEM[\"Greenwich\",0],UNIT[\"degree\",0.0174532925199433],AUTHORITY[\"EPSG\",\"4326\"]],PROJECTION[\"Transverse_Mercator\"],PARAMETER[\"latitude_of_origin\",0],PARAMETER[\"central_meridian\",3],PARAMETER[\"scale_factor\",0.9996],PARAMETER[\"false_easting\",500000],PARAMETER[\"false_northing\",0],UNIT[\"metre\",1,AUTHORITY[\"EPSG\",\"9001\"]],AUTHORITY[\"EPSG\",\"32631\"]]\n",
        "\n",
        "Information about the location of the image and the pixel size:\n",
        "Origin = ( 529185.0 , 5847015.0 )\n",
        "Pixel Size = ( 30.0 , -30.0 )\n"
       ]
      }
     ],
     "prompt_number": 4
    },
    {
     "cell_type": "markdown",
     "metadata": {},
     "source": [
      "#1 Read data into an array"
     ]
    },
    {
     "cell_type": "code",
     "collapsed": false,
     "input": [
      "band4Arr = dataSource4.ReadAsArray(0,0,dataSource4.RasterXSize, dataSource4.RasterYSize)\n",
      "band5Arr = dataSource5.ReadAsArray(0,0,dataSource5.RasterXSize, dataSource5.RasterYSize)\n",
      "                                               \n",
      "## set the data type\n",
      "band4Arr=band4Arr.astype(np.float32)\n",
      "band5Arr=band5Arr.astype(np.float32)\n"
     ],
     "language": "python",
     "metadata": {},
     "outputs": [],
     "prompt_number": 20
    },
    {
     "cell_type": "markdown",
     "metadata": {},
     "source": [
      "#2 Derive the NDWI "
     ]
    },
    {
     "cell_type": "code",
     "collapsed": false,
     "input": [
      "def calcNDWI(band4Arr,band5Arr):\n",
      "    ## set np.errstate to avoid warning of invalid values (i.e. NaN values) in the divide \n",
      "    with np.errstate(invalid='ignore'):\n",
      "        mask = np.greater(band4Arr+band5Arr,0)\n",
      "        ndwi = np.choose(mask,(-99,(band4Arr-band5Arr)/(band5Arr+band4Arr)))\n",
      "    print \"NDWI min and max values\", ndwi.min(), ndwi.max()\n",
      "    ## Check the real minimum value\n",
      "    print ndwi[ndwi>-99].min()\n",
      "\n",
      "calcNDWI(band4Arr,band5Arr)\n",
      "\n"
     ],
     "language": "python",
     "metadata": {},
     "outputs": [
      {
       "output_type": "stream",
       "stream": "stdout",
       "text": [
        "NDWI min and max values "
       ]
      },
      {
       "output_type": "stream",
       "stream": "stdout",
       "text": [
        "-99.0 "
       ]
      },
      {
       "output_type": "stream",
       "stream": "stdout",
       "text": [
        "21.3333\n",
        "-2.36481"
       ]
      },
      {
       "output_type": "stream",
       "stream": "stdout",
       "text": [
        "\n"
       ]
      }
     ],
     "prompt_number": 19
    },
    {
     "cell_type": "markdown",
     "metadata": {},
     "source": [
      "#3 Write the result to disk"
     ]
    },
    {
     "cell_type": "code",
     "collapsed": false,
     "input": [
      "driver = gdal.GetDriverByName('GTiff')\n",
      "outDataSet=driver.Create('/home/user/Desktop/geoscripting/lesson13/ndwi.tif', dataSource4.RasterXSize, dataSource4.RasterYSize, 1, GDT_Float32)\n",
      "outBand = outDataSet.GetRasterBand(1)\n",
      "outBand.WriteArray(ndwi,0,0)\n",
      "outBand.SetNoDataValue(-99)\n",
      "\n",
      "##3.1 set the projection and extent information of the dataset\n",
      "outDataSet.SetProjection(dataSource4.GetProjection())\n",
      "outDataSet.SetGeoTransform(dataSource4.GetGeoTransform())\n",
      "\n",
      "##3.2 Finally let's save it... or like in the OGR example flush it\n",
      "outBand.FlushCache()\n",
      "outDataSet.FlushCache()\n"
     ],
     "language": "python",
     "metadata": {},
     "outputs": [
      {
       "metadata": {},
       "output_type": "pyout",
       "prompt_number": 22,
       "text": [
        "0"
       ]
      }
     ],
     "prompt_number": 22
    },
    {
     "cell_type": "markdown",
     "metadata": {},
     "source": [
      "#4 reproject the raster"
     ]
    },
    {
     "cell_type": "code",
     "collapsed": false,
     "input": [
      "os.system('gdalwarp -t_srs \"EPSG:4326\" /home/user/Desktop/geoscripting/lesson13/ndwi.tif /home/user/Desktop/geoscripting/lesson13/ndwi_reprojected.tif')\n",
      "\n",
      "## 4.1 check result\n",
      "!gdalinfo /home/user/Desktop/geoscripting/lesson13/ndwi_reprojected.tif"
     ],
     "language": "python",
     "metadata": {},
     "outputs": [
      {
       "output_type": "stream",
       "stream": "stdout",
       "text": [
        "Driver: GTiff/GeoTIFF\r\n",
        "Files: /home/user/Desktop/geoscripting/lesson13/ndwi_reprojected.tif\r\n",
        "Size is 9790, 6168\r\n",
        "Coordinate System is:\r\n",
        "GEOGCS[\"WGS 84\",\r\n",
        "    DATUM[\"WGS_1984\",\r\n",
        "        SPHEROID[\"WGS 84\",6378137,298.257223563,\r\n",
        "            AUTHORITY[\"EPSG\",\"7030\"]],\r\n",
        "        AUTHORITY[\"EPSG\",\"6326\"]],\r\n",
        "    PRIMEM[\"Greenwich\",0],\r\n",
        "    UNIT[\"degree\",0.0174532925199433],\r\n",
        "    AUTHORITY[\"EPSG\",\"4326\"]]\r\n",
        "Origin = (3.412720989343660,52.772174160489875)\r\n",
        "Pixel Size = (0.000355418665319,-0.000355418665319)\r\n",
        "Metadata:\r\n",
        "  AREA_OR_POINT=Area\r\n",
        "Image Structure Metadata:\r\n",
        "  INTERLEAVE=BAND\r\n",
        "Corner Coordinates:\r\n",
        "Upper Left  (   3.4127210,  52.7721742) (  3d24'45.80\"E, 52d46'19.83\"N)\r\n",
        "Lower Left  (   3.4127210,  50.5799518) (  3d24'45.80\"E, 50d34'47.83\"N)\r\n",
        "Upper Right (   6.8922697,  52.7721742) (  6d53'32.17\"E, 52d46'19.83\"N)\r\n",
        "Lower Right (   6.8922697,  50.5799518) (  6d53'32.17\"E, 50d34'47.83\"N)\r\n",
        "Center      (   5.1524954,  51.6760630) (  5d 9' 8.98\"E, 51d40'33.83\"N)\r\n",
        "Band 1 Block=9790x1 Type=Float32, ColorInterp=Gray\r\n",
        "  NoData Value=-99\r\n"
       ]
      }
     ],
     "prompt_number": 11
    },
    {
     "cell_type": "markdown",
     "metadata": {},
     "source": [
      "#5 Visualise"
     ]
    },
    {
     "cell_type": "markdown",
     "metadata": {},
     "source": [
      "\" %matplotlib inline\" should show the plot on this page. Unfortunately this is not the case. Instead we wrote the os.system() command to open it in Qgis"
     ]
    },
    {
     "cell_type": "code",
     "collapsed": false,
     "input": [
      "from osgeo import gdal\n",
      "import matplotlib.pyplot as plt\n",
      "%matplotlib inline \n",
      "\n",
      "# Open image\n",
      "# dataSource = gdal.Open(filename, GA_ReadOnly)\n",
      "dsll = gdal.Open(\"/home/user/Desktop/geoscripting/lesson13/ndwi.tif\")\n",
      "\n",
      "\n",
      "# Read raster data\n",
      "ndwi = dsll.ReadAsArray(0, 0, dsll.RasterXSize, dsll.RasterYSize)\n",
      "\n",
      "# Now plot the raster data using gist_earth palette\n",
      "plt.imshow(ndwi, interpolation='nearest', vmin=0, cmap=plt.cm.gist_earth)\n",
      "plt.show()\n",
      "\n",
      "dsll = None\n",
      "\n",
      "os.system(\"qgis /home/user/Desktop/geoscripting/lesson13/ndwi_reprojected.tif\")"
     ],
     "language": "python",
     "metadata": {},
     "outputs": [
      {
       "metadata": {},
       "output_type": "display_data",
       "text": [
        "<matplotlib.figure.Figure at 0xae5729cc>"
       ]
      },
      {
       "metadata": {},
       "output_type": "pyout",
       "prompt_number": 21,
       "text": [
        "0"
       ]
      }
     ],
     "prompt_number": 21
    }
   ],
   "metadata": {}
  }
 ]
}